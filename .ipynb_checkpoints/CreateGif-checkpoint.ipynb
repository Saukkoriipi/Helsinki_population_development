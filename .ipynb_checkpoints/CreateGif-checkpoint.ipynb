{
 "cells": [
  {
   "cell_type": "markdown",
   "metadata": {},
   "source": [
    "## Create gifs of images in folders pics_all_population and pics_stations_population\n",
    "\n",
    "#### Create gif all population pics"
   ]
  },
  {
   "cell_type": "code",
   "execution_count": 3,
   "metadata": {},
   "outputs": [
    {
     "name": "stdout",
     "output_type": "stream",
     "text": [
      "pics_all_population/pop1997.png\n",
      "pics_all_population/pop1998.png\n",
      "pics_all_population/pop1999.png\n",
      "pics_all_population/pop2000.png\n",
      "pics_all_population/pop2001.png\n",
      "pics_all_population/pop2002.png\n",
      "pics_all_population/pop2003.png\n",
      "pics_all_population/pop2008.png\n",
      "pics_all_population/pop2009.png\n",
      "pics_all_population/pop2010.png\n",
      "pics_all_population/pop2011.png\n",
      "pics_all_population/pop2012.png\n",
      "pics_all_population/pop2013.png\n",
      "pics_all_population/pop2014.png\n",
      "pics_all_population/pop2015.png\n",
      "pics_all_population/pop2016.png\n",
      "pics_all_population/pop2017.png\n",
      "pics_all_population/pop2018.png\n",
      "pics_all_population/pop2019.png\n"
     ]
    }
   ],
   "source": [
    "# Import libraries\n",
    "import glob\n",
    "import imageio\n",
    "\n",
    "# Find all files from given folder that has .png file-format\n",
    "search_criteria = \"pics_all_population/*.png\"\n",
    "\n",
    "# Define output path\n",
    "output_gif_path = \"docs/Population.gif\"\n",
    "\n",
    "# Execute the glob function that returns a list of filepaths\n",
    "figure_paths = glob.glob(search_criteria)\n",
    "\n",
    "# Order paths by year\n",
    "figure_paths = sorted(figure_paths)\n",
    "\n",
    "# Print file paths\n",
    "for path in figure_paths:\n",
    "    print(path)\n",
    "\n",
    "# Save the animation to disk with 48 ms durations\n",
    "imageio.mimsave(output_gif_path, [imageio.imread(fp) for fp in figure_paths], duration=1.50, subrectangles=True)"
   ]
  },
  {
   "cell_type": "markdown",
   "metadata": {},
   "source": [
    "#### Create gif of stations population pics"
   ]
  },
  {
   "cell_type": "code",
   "execution_count": 4,
   "metadata": {},
   "outputs": [
    {
     "name": "stdout",
     "output_type": "stream",
     "text": [
      "pics_stations_population/pop1997.png\n",
      "pics_stations_population/pop1998.png\n",
      "pics_stations_population/pop1999.png\n",
      "pics_stations_population/pop2000.png\n",
      "pics_stations_population/pop2001.png\n",
      "pics_stations_population/pop2002.png\n",
      "pics_stations_population/pop2003.png\n",
      "pics_stations_population/pop2008.png\n",
      "pics_stations_population/pop2009.png\n",
      "pics_stations_population/pop2010.png\n",
      "pics_stations_population/pop2011.png\n",
      "pics_stations_population/pop2012.png\n",
      "pics_stations_population/pop2013.png\n",
      "pics_stations_population/pop2014.png\n",
      "pics_stations_population/pop2015.png\n",
      "pics_stations_population/pop2016.png\n",
      "pics_stations_population/pop2017.png\n",
      "pics_stations_population/pop2018.png\n",
      "pics_stations_population/pop2019.png\n"
     ]
    }
   ],
   "source": [
    "\n",
    "search_criteria = \"pics_stations_population/*.png\"\n",
    "\n",
    "# Define output path\n",
    "output_gif_path = \"docs/StationsPopulation.gif\"\n",
    "\n",
    "# Execute the glob function that returns a list of filepaths\n",
    "figure_paths = glob.glob(search_criteria)\n",
    "\n",
    "# Order paths by year\n",
    "figure_paths = sorted(figure_paths)\n",
    "\n",
    "# Print file paths\n",
    "for path in figure_paths:\n",
    "    print(path)\n",
    "\n",
    "# Save the animation to disk with 48 ms durations\n",
    "imageio.mimsave(output_gif_path, [imageio.imread(fp) for fp in figure_paths], duration=1.50, subrectangles=True)"
   ]
  }
 ],
 "metadata": {
  "kernelspec": {
   "display_name": "Python 3",
   "language": "python",
   "name": "python3"
  },
  "language_info": {
   "codemirror_mode": {
    "name": "ipython",
    "version": 3
   },
   "file_extension": ".py",
   "mimetype": "text/x-python",
   "name": "python",
   "nbconvert_exporter": "python",
   "pygments_lexer": "ipython3",
   "version": "3.7.3"
  }
 },
 "nbformat": 4,
 "nbformat_minor": 4
}
