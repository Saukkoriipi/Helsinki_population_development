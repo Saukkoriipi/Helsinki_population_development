{
 "cells": [
  {
   "cell_type": "markdown",
   "metadata": {},
   "source": [
    "## Create gif of images in file docs"
   ]
  },
  {
   "cell_type": "code",
   "execution_count": 8,
   "metadata": {},
   "outputs": [
    {
     "name": "stdout",
     "output_type": "stream",
     "text": [
      "docs/pop1997.png\n",
      "docs/pop1998.png\n",
      "docs/pop1999.png\n",
      "docs/pop2000.png\n",
      "docs/pop2001.png\n",
      "docs/pop2002.png\n",
      "docs/pop2003.png\n",
      "docs/pop2008.png\n",
      "docs/pop2009.png\n",
      "docs/pop2010.png\n",
      "docs/pop2011.png\n",
      "docs/pop2012.png\n",
      "docs/pop2013.png\n",
      "docs/pop2014.png\n",
      "docs/pop2015.png\n",
      "docs/pop2016.png\n",
      "docs/pop2017.png\n",
      "docs/pop2018.png\n",
      "docs/pop2019.png\n"
     ]
    }
   ],
   "source": [
    "# Import libraries\n",
    "import glob\n",
    "import imageio\n",
    "\n",
    "# Find all files from given folder that has .png file-format\n",
    "search_criteria = \"docs/*.png\"\n",
    "\n",
    "# Execute the glob function that returns a list of filepaths\n",
    "figure_paths = glob.glob(search_criteria)\n",
    "\n",
    "# Order paths by year\n",
    "figure_paths = sorted(figure_paths)\n",
    "\n",
    "# Print file paths\n",
    "for path in figure_paths:\n",
    "    print(path)\n",
    "\n",
    "# Save the animation to disk with 48 ms durations\n",
    "output_gif_path = \"population_animation.gif\"\n",
    "imageio.mimsave(output_gif_path, [imageio.imread(fp) for fp in figure_paths], duration=1.50, subrectangles=True)"
   ]
  },
  {
   "cell_type": "code",
   "execution_count": null,
   "metadata": {},
   "outputs": [],
   "source": []
  }
 ],
 "metadata": {
  "kernelspec": {
   "display_name": "Python 3",
   "language": "python",
   "name": "python3"
  },
  "language_info": {
   "codemirror_mode": {
    "name": "ipython",
    "version": 3
   },
   "file_extension": ".py",
   "mimetype": "text/x-python",
   "name": "python",
   "nbconvert_exporter": "python",
   "pygments_lexer": "ipython3",
   "version": "3.7.3"
  }
 },
 "nbformat": 4,
 "nbformat_minor": 4
}
