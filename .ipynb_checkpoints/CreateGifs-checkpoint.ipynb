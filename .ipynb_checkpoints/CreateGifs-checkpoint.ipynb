{
 "cells": [
  {
   "cell_type": "markdown",
   "metadata": {},
   "source": [
    "## Create gif animations \n",
    "#### Animation of images in folders pics_all_population, pics_stations_graphs and pics_stations_population. Save results to folder docs.\n",
    "\n",
    "#### Create gif of all population pics"
   ]
  },
  {
   "cell_type": "code",
   "execution_count": 7,
   "metadata": {},
   "outputs": [
    {
     "name": "stdout",
     "output_type": "stream",
     "text": [
      "pics_all_population/pop1997.png\n",
      "pics_all_population/pop1998.png\n",
      "pics_all_population/pop1999.png\n",
      "pics_all_population/pop2000.png\n",
      "pics_all_population/pop2001.png\n",
      "pics_all_population/pop2002.png\n",
      "pics_all_population/pop2003.png\n",
      "pics_all_population/pop2004.png\n",
      "pics_all_population/pop2005.png\n",
      "pics_all_population/pop2006.png\n",
      "pics_all_population/pop2007.png\n",
      "pics_all_population/pop2008.png\n",
      "pics_all_population/pop2009.png\n",
      "pics_all_population/pop2010.png\n",
      "pics_all_population/pop2011.png\n",
      "pics_all_population/pop2012.png\n",
      "pics_all_population/pop2013.png\n",
      "pics_all_population/pop2014.png\n",
      "pics_all_population/pop2015.png\n",
      "pics_all_population/pop2016.png\n",
      "pics_all_population/pop2017.png\n",
      "pics_all_population/pop2018.png\n",
      "pics_all_population/pop2019.png\n"
     ]
    }
   ],
   "source": [
    "# Import libraries\n",
    "import glob\n",
    "import imageio\n",
    "\n",
    "# Find all files from given folder that has .png file-format\n",
    "search_criteria = \"pics_all_population/*.png\"\n",
    "\n",
    "# Define output path\n",
    "output_gif_path = \"docs/Population.gif\"\n",
    "\n",
    "# Execute the glob function that returns a list of filepaths\n",
    "figure_paths = glob.glob(search_criteria)\n",
    "\n",
    "# Order paths by year\n",
    "figure_paths = sorted(figure_paths)\n",
    "\n",
    "# Print file paths\n",
    "for path in figure_paths:\n",
    "    print(path)\n",
    "\n",
    "# Save the animation to disk with 1.50 s durations\n",
    "imageio.mimsave(output_gif_path, [imageio.imread(fp) for fp in figure_paths], duration=1.50, subrectangles=True)"
   ]
  },
  {
   "cell_type": "markdown",
   "metadata": {},
   "source": [
    "#### Create gif of stations population pics"
   ]
  },
  {
   "cell_type": "code",
   "execution_count": 8,
   "metadata": {},
   "outputs": [
    {
     "name": "stdout",
     "output_type": "stream",
     "text": [
      "pics_stations_population/pop1997.png\n",
      "pics_stations_population/pop1998.png\n",
      "pics_stations_population/pop1999.png\n",
      "pics_stations_population/pop2000.png\n",
      "pics_stations_population/pop2001.png\n",
      "pics_stations_population/pop2002.png\n",
      "pics_stations_population/pop2003.png\n",
      "pics_stations_population/pop2004.png\n",
      "pics_stations_population/pop2005.png\n",
      "pics_stations_population/pop2006.png\n",
      "pics_stations_population/pop2007.png\n",
      "pics_stations_population/pop2008.png\n",
      "pics_stations_population/pop2009.png\n",
      "pics_stations_population/pop2010.png\n",
      "pics_stations_population/pop2011.png\n",
      "pics_stations_population/pop2012.png\n",
      "pics_stations_population/pop2013.png\n",
      "pics_stations_population/pop2014.png\n",
      "pics_stations_population/pop2015.png\n",
      "pics_stations_population/pop2016.png\n",
      "pics_stations_population/pop2017.png\n",
      "pics_stations_population/pop2018.png\n",
      "pics_stations_population/pop2019.png\n"
     ]
    }
   ],
   "source": [
    "# Find all files from given folder that has .png file-format\n",
    "search_criteria = \"pics_stations_population/*.png\"\n",
    "\n",
    "# Define output path\n",
    "output_gif_path = \"docs/StationsPopulation.gif\"\n",
    "\n",
    "# Execute the glob function that returns a list of filepaths\n",
    "figure_paths = glob.glob(search_criteria)\n",
    "\n",
    "# Order paths by year\n",
    "figure_paths = sorted(figure_paths)\n",
    "\n",
    "# Print file paths\n",
    "for path in figure_paths:\n",
    "    print(path)\n",
    "\n",
    "# Save the animation to disk with 1.5 s durations\n",
    "imageio.mimsave(output_gif_path, [imageio.imread(fp) for fp in figure_paths], duration=1.50, subrectangles=True)"
   ]
  },
  {
   "cell_type": "markdown",
   "metadata": {},
   "source": [
    "#### Create gif of stations graphs"
   ]
  },
  {
   "cell_type": "code",
   "execution_count": 9,
   "metadata": {},
   "outputs": [
    {
     "name": "stdout",
     "output_type": "stream",
     "text": [
      "pics_stations_graphs/Aalto University.png\n",
      "pics_stations_graphs/Espoo.png\n",
      "pics_stations_graphs/Hakaniemi.png\n",
      "pics_stations_graphs/Helsinki Center Station.png\n",
      "pics_stations_graphs/Helsinki University.png\n",
      "pics_stations_graphs/Herttoniemi.png\n",
      "pics_stations_graphs/Hiekkaharju.png\n",
      "pics_stations_graphs/Huopalahti.png\n",
      "pics_stations_graphs/Ilmala.png\n",
      "pics_stations_graphs/Itäkeskus.png\n",
      "pics_stations_graphs/Kalasatama.png\n",
      "pics_stations_graphs/Kamppi.png\n",
      "pics_stations_graphs/Kannelmäki.png\n",
      "pics_stations_graphs/Kauklahti.png\n",
      "pics_stations_graphs/Kauniainen.png\n",
      "pics_stations_graphs/Keilaniemi.png\n",
      "pics_stations_graphs/Kera.png\n",
      "pics_stations_graphs/Kilo.png\n",
      "pics_stations_graphs/Kivistö.png\n",
      "pics_stations_graphs/Koivuhovi.png\n",
      "pics_stations_graphs/Koivukylä.png\n",
      "pics_stations_graphs/Koivusaari.png\n",
      "pics_stations_graphs/Kontula.png\n",
      "pics_stations_graphs/Korso.png\n",
      "pics_stations_graphs/Kulosaari.png\n",
      "pics_stations_graphs/Käpylä.png\n",
      "pics_stations_graphs/Lauttasaari.png\n",
      "pics_stations_graphs/Leinelä.png\n",
      "pics_stations_graphs/Lentoasema.png\n",
      "pics_stations_graphs/Leppävaara.png\n",
      "pics_stations_graphs/Louhela.png\n",
      "pics_stations_graphs/Malmi.png\n",
      "pics_stations_graphs/Malminkartano.png\n",
      "pics_stations_graphs/Martinlaakso.png\n",
      "pics_stations_graphs/Matinkylä.png\n",
      "pics_stations_graphs/Mellunmäki.png\n",
      "pics_stations_graphs/Myllypuro.png\n",
      "pics_stations_graphs/Myyrmäki.png\n",
      "pics_stations_graphs/Mäkkylä.png\n",
      "pics_stations_graphs/Niittykumpu.png\n",
      "pics_stations_graphs/Oulunkylä.png\n",
      "pics_stations_graphs/Pasila.png\n",
      "pics_stations_graphs/Pitäjänmäki.png\n",
      "pics_stations_graphs/Pohjois-Haaga.png\n",
      "pics_stations_graphs/Puistola.png\n",
      "pics_stations_graphs/Pukinmäki.png\n",
      "pics_stations_graphs/Puotila.png\n",
      "pics_stations_graphs/Rastila.png\n",
      "pics_stations_graphs/Rekola.png\n",
      "pics_stations_graphs/Ruoholahti.png\n",
      "pics_stations_graphs/Siilitie.png\n",
      "pics_stations_graphs/Sörnäinen.png\n",
      "pics_stations_graphs/Tapanila.png\n",
      "pics_stations_graphs/Tapiola.png\n",
      "pics_stations_graphs/Tikkurila.png\n",
      "pics_stations_graphs/Tuomarila.png\n",
      "pics_stations_graphs/Urheilupuisto.png\n",
      "pics_stations_graphs/Valimo.png\n",
      "pics_stations_graphs/Vantaankoski.png\n",
      "pics_stations_graphs/Vehkala.png\n",
      "pics_stations_graphs/Vuosaari.png\n",
      "pics_stations_graphs/pop2019.png\n"
     ]
    }
   ],
   "source": [
    "# Find all files from given folder that has .png file-format\n",
    "search_criteria = \"pics_stations_graphs/*.png\"\n",
    "\n",
    "# Define output path\n",
    "output_gif_path = \"docs/StationsGraph.gif\"\n",
    "\n",
    "# Execute the glob function that returns a list of filepaths\n",
    "figure_paths = glob.glob(search_criteria)\n",
    "\n",
    "# Order paths by year\n",
    "figure_paths = sorted(figure_paths)\n",
    "\n",
    "# Print file paths\n",
    "for path in figure_paths:\n",
    "    print(path)\n",
    "\n",
    "# Save the animation to disk with 1.5 s durations\n",
    "imageio.mimsave(output_gif_path, [imageio.imread(fp) for fp in figure_paths], duration=1.50, subrectangles=True)"
   ]
  }
 ],
 "metadata": {
  "kernelspec": {
   "display_name": "Python 3",
   "language": "python",
   "name": "python3"
  },
  "language_info": {
   "codemirror_mode": {
    "name": "ipython",
    "version": 3
   },
   "file_extension": ".py",
   "mimetype": "text/x-python",
   "name": "python",
   "nbconvert_exporter": "python",
   "pygments_lexer": "ipython3",
   "version": "3.7.3"
  }
 },
 "nbformat": 4,
 "nbformat_minor": 4
}
