{
 "cells": [
  {
   "cell_type": "code",
   "execution_count": 88,
   "metadata": {},
   "outputs": [],
   "source": [
    "# Import libraries\n",
    "import geopandas as gpd\n"
   ]
  },
  {
   "cell_type": "code",
   "execution_count": 89,
   "metadata": {},
   "outputs": [
    {
     "name": "stdout",
     "output_type": "stream",
     "text": [
      "Grid CRS: {'init': 'epsg:3067'}\n"
     ]
    }
   ],
   "source": [
    "# Read grid file\n",
    "grid = gpd.read_file(\"MetropAccess_YKR_grid/MetropAccess_YKR_grid_EurefFIN.shp\")\n",
    "\n",
    "grid[\"location\"] = \"1234xxx\"\n",
    "\n",
    "\n",
    "# Check coordinate reference system of the both dataframes\n",
    "print(\"Grid CRS:\", grid.crs)\n",
    "\n",
    "# Initialize CRS to WGS84 / EPSG:4326\n",
    "#grid.crs = \"EPSG:4326\"\n",
    "\n",
    "# Set crs to EPSG:3857\n",
    "#grid = grid.to_crs(epsg=3857)\n",
    "grid = grid.to_crs(epsg=3857)"
   ]
  },
  {
   "cell_type": "markdown",
   "metadata": {},
   "source": [
    "#### Visualize grid"
   ]
  },
  {
   "cell_type": "code",
   "execution_count": 90,
   "metadata": {},
   "outputs": [],
   "source": [
    "from bokeh.tile_providers import get_provider, Vendors\n",
    "import json\n",
    "from bokeh.io import show\n",
    "from bokeh.models import (CDSView, ColorBar, ColumnDataSource,\n",
    "                          CustomJS, CustomJSFilter, \n",
    "                          GeoJSONDataSource, HoverTool,\n",
    "                          LinearColorMapper, Slider)\n",
    "from bokeh.layouts import column, row, widgetbox\n",
    "from bokeh.palettes import brewer\n",
    "from bokeh.plotting import figure\n",
    "\n",
    "# Set outputfile\n",
    "output_file(\"bokeh_map.html\")\n",
    "\n",
    "# Get background map provider\n",
    "tile_provider = get_provider(Vendors.STAMEN_TERRAIN)\n",
    "\n",
    "# Convert grid geodataframe to geoJSON for plotting\n",
    "geosource = GeoJSONDataSource(geojson = grid.to_json())\n",
    "\n",
    "# Create empty figure object\n",
    "p = figure(title = 'YKR Grid identifier', \n",
    "           plot_height = 700 ,\n",
    "           plot_width = 900, \n",
    "           toolbar_location = 'below',\n",
    "           tools = \"pan, wheel_zoom, box_zoom, reset\")\n",
    "\n",
    "# Add background map\n",
    "p.add_tile(tile_provider)\n",
    "\n",
    "# ?????\n",
    "p.xgrid.grid_line_color = None\n",
    "p.ygrid.grid_line_color = None\n",
    "\n",
    "# Add patch renderer to figure.\n",
    "grids = p.patches('xs','ys', source = geosource,\n",
    "                   fill_color = None,\n",
    "                   line_color = \"black\", \n",
    "                   line_width = 0.25, \n",
    "                   fill_alpha = 0.5)\n",
    "\n",
    "# Create hover tool\n",
    "p.add_tools(HoverTool(renderers = [grids], tooltips = [('YKR identifier','@YKR_ID'), ('Data folder','@location')]))\n",
    "\n",
    "# Show map\n",
    "show(p)"
   ]
  },
  {
   "cell_type": "code",
   "execution_count": null,
   "metadata": {},
   "outputs": [],
   "source": []
  }
 ],
 "metadata": {
  "kernelspec": {
   "display_name": "Python 3",
   "language": "python",
   "name": "python3"
  },
  "language_info": {
   "codemirror_mode": {
    "name": "ipython",
    "version": 3
   },
   "file_extension": ".py",
   "mimetype": "text/x-python",
   "name": "python",
   "nbconvert_exporter": "python",
   "pygments_lexer": "ipython3",
   "version": "3.7.3"
  }
 },
 "nbformat": 4,
 "nbformat_minor": 4
}
