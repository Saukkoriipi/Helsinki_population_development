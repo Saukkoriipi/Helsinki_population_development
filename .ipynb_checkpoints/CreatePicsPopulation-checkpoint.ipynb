{
 "cells": [
  {
   "cell_type": "markdown",
   "metadata": {},
   "source": [
    "## Create graphs of population development from 1997 to 2019\n",
    "\n",
    "Reads population, railways and stations shapefiles and creates map figure for every year. Result is saved in folder pics."
   ]
  },
  {
   "cell_type": "markdown",
   "metadata": {},
   "source": [
    "#### Import libraries"
   ]
  },
  {
   "cell_type": "code",
   "execution_count": 6,
   "metadata": {},
   "outputs": [],
   "source": [
    "from pyproj import CRS\n",
    "import geopandas as gpd\n",
    "from functools import reduce\n",
    "import pandas as pd\n",
    "import matplotlib.pyplot as plt\n",
    "import matplotlib\n",
    "import contextily as ctx"
   ]
  },
  {
   "cell_type": "markdown",
   "metadata": {},
   "source": [
    "#### Read population, rails and stations data"
   ]
  },
  {
   "cell_type": "code",
   "execution_count": 7,
   "metadata": {},
   "outputs": [],
   "source": [
    "# Read rails data\n",
    "fp = \"railway_data/railways.shp\"\n",
    "rails = gpd.read_file(fp)\n",
    "\n",
    "# Read population data\n",
    "fp = \"population_data/population.shp\"\n",
    "population = gpd.read_file(fp)\n",
    "\n",
    "# Read stations data\n",
    "fp = \"stations_data/stations.shp\"\n",
    "stations = gpd.read_file(fp)"
   ]
  },
  {
   "cell_type": "markdown",
   "metadata": {},
   "source": [
    "#### Set coordinate reference system"
   ]
  },
  {
   "cell_type": "code",
   "execution_count": 8,
   "metadata": {},
   "outputs": [
    {
     "name": "stdout",
     "output_type": "stream",
     "text": [
      "All have same CRS:  True\n"
     ]
    }
   ],
   "source": [
    "# Rails\n",
    "rails = rails.to_crs(epsg=3857)\n",
    "\n",
    "# Population all years\n",
    "population = population.to_crs(epsg=3857)\n",
    "\n",
    "# Stations\n",
    "stations = stations.to_crs(epsg=3857)\n",
    "\n",
    "# Check that they all have same CRS\n",
    "print(\"All have same CRS: \", rails.crs == population.crs == stations.crs)"
   ]
  },
  {
   "cell_type": "markdown",
   "metadata": {},
   "source": [
    "#### Create years_list for the loop"
   ]
  },
  {
   "cell_type": "code",
   "execution_count": 9,
   "metadata": {},
   "outputs": [
    {
     "name": "stdout",
     "output_type": "stream",
     "text": [
      "Years: \n",
      " [1997, 1998, 1999, 2000, 2001, 2002, 2003, 2004, 2005, 2006, 2007, 2008, 2009, 2010, 2011, 2012, 2013, 2014, 2015, 2016, 2017, 2018, 2019]\n"
     ]
    }
   ],
   "source": [
    "# Create years list\n",
    "\n",
    "# Get columns names\n",
    "columns = population.columns.tolist()\n",
    "\n",
    "# Filter columns list and leave only population columns (they have year eg. pop1997)\n",
    "pop_years = list(filter(lambda x: 'pop' in x, columns))\n",
    "\n",
    "# Remove pop and leave only years. Then years list is ready for loop which makes figures.\n",
    "\n",
    "# Initialize empty years list\n",
    "years_list=[]\n",
    "\n",
    "# Get names frop pop_years and get 4 last letter (pop2019 -> 2019)\n",
    "for name in pop_years:\n",
    "    year = name[3:7]\n",
    "    year = int(year)\n",
    "    years_list.append(year)\n",
    "    \n",
    "# Print years_list\n",
    "print(\"Years: \\n\", years_list)    "
   ]
  },
  {
   "cell_type": "markdown",
   "metadata": {},
   "source": [
    "#### Create and save figure of every year on years_list"
   ]
  },
  {
   "cell_type": "code",
   "execution_count": 10,
   "metadata": {},
   "outputs": [],
   "source": [
    "# Select colour map\n",
    "cmap = matplotlib.cm.get_cmap('autumn_r')    \n",
    "\n",
    "# Loop through years and create and save figures\n",
    "for year in years_list:\n",
    "    \n",
    "    # Set column name which to visualize\n",
    "    column_name = \"pop\"+str(year)\n",
    "    \n",
    "    # Define variable total population and change type to integer\n",
    "    total_population = int(round(population[column_name].sum()))\n",
    "    \n",
    "    # set the range for the choropleth\n",
    "    vmin, vmax = 0, 5000\n",
    "\n",
    "    # create figure and axes for Matplotlib\n",
    "    fig, ax = plt.subplots(1, figsize=(15, 10))\n",
    "\n",
    "    # Plot the population data\n",
    "    population.plot(ax=ax, column=column_name, cmap=cmap, linewidth=0.5, alpha=0.8, norm=plt.Normalize(vmin=vmin, vmax=vmax))\n",
    "    \n",
    "    # Plot the rails\n",
    "    rails.plot(ax=ax, color=\"gray\", linewidth=0.5)\n",
    "    \n",
    "    # Plot stations\n",
    "    stations.plot(ax=ax, color=\"black\", markersize=10)\n",
    "\n",
    "    # remove the axis\n",
    "    ax.axis(\"off\")\n",
    "\n",
    "    # add a title\n",
    "    ax.set_title(\"Year \" +str(year) + \" - Total Population \" + str(total_population), \n",
    "                 fontdict={\"fontsize\": \"20\", \"fontweight\" : \"3\"})\n",
    "\n",
    "    # Add source to the bottom left corner\n",
    "    ax.annotate(\"Source: HSY.fi, Väestöruudukko, 2020\",xy=(0.1, .08), xycoords=\"figure fraction\", \n",
    "                horizontalalignment=\"left\", verticalalignment=\"top\", fontsize=12, color=\"#555555\")\n",
    "    \n",
    "    # Create colorbar as a legend\n",
    "    sm = plt.cm.ScalarMappable(cmap=cmap, norm=plt.Normalize(vmin=vmin, vmax=vmax))\n",
    "\n",
    "    # empty array for the data range\n",
    "    sm._A = []\n",
    "\n",
    "    # Add the colorbar to the figure\n",
    "    cbar = fig.colorbar(sm)\n",
    "\n",
    "    # Add basemap with `OSM_A` style\n",
    "    ctx.add_basemap(ax, url=ctx.tile_providers.OSM_A)\n",
    "\n",
    "    # Crop the figure\n",
    "    ax.set_xlim(2725000, 2816000)\n",
    "    ax.set_ylim(8420000, 8490000)\n",
    "\n",
    "    # Save map as .png file.\n",
    "    fig.savefig(\"pics/all_\"+column_name+\".png\", dpi=50)\n",
    "    \n",
    "    # Close figure - Remove this if you want to see figures in this notebook\n",
    "    plt.close(fig)"
   ]
  },
  {
   "cell_type": "code",
   "execution_count": null,
   "metadata": {},
   "outputs": [],
   "source": []
  }
 ],
 "metadata": {
  "kernelspec": {
   "display_name": "Python 3",
   "language": "python",
   "name": "python3"
  },
  "language_info": {
   "codemirror_mode": {
    "name": "ipython",
    "version": 3
   },
   "file_extension": ".py",
   "mimetype": "text/x-python",
   "name": "python",
   "nbconvert_exporter": "python",
   "pygments_lexer": "ipython3",
   "version": "3.7.3"
  }
 },
 "nbformat": 4,
 "nbformat_minor": 4
}
