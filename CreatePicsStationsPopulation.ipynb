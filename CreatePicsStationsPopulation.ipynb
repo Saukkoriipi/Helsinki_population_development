{
 "cells": [
  {
   "cell_type": "markdown",
   "metadata": {},
   "source": [
    "## Create graphs of population development from 1997 to 2019 in 500 meters range from stations\n",
    "\n",
    "Reads stations_population, railways and stations data and creates map figure for every year. Result is saved in folder pics."
   ]
  },
  {
   "cell_type": "markdown",
   "metadata": {},
   "source": [
    "#### Import libraries"
   ]
  },
  {
   "cell_type": "code",
   "execution_count": 11,
   "metadata": {},
   "outputs": [],
   "source": [
    "from pyproj import CRS\n",
    "import geopandas as gpd\n",
    "from functools import reduce\n",
    "import pandas as pd\n",
    "import matplotlib.pyplot as plt\n",
    "import matplotlib\n",
    "import contextily as ctx"
   ]
  },
  {
   "cell_type": "markdown",
   "metadata": {},
   "source": [
    "#### Read population, rails, subway stations and rail stations data"
   ]
  },
  {
   "cell_type": "code",
   "execution_count": 12,
   "metadata": {},
   "outputs": [],
   "source": [
    "# Read rails data\n",
    "fp = \"railway_data/railways.shp\"\n",
    "rails = gpd.read_file(fp)\n",
    "\n",
    "# Read stations population data\n",
    "fp = \"population_data/stations_population.shp\"\n",
    "stations_population = gpd.read_file(fp)\n",
    "\n",
    "# Read stations data\n",
    "fp = \"stations_data/stations.shp\"\n",
    "stations = gpd.read_file(fp)"
   ]
  },
  {
   "cell_type": "markdown",
   "metadata": {},
   "source": [
    "#### Set coordinate reference system"
   ]
  },
  {
   "cell_type": "code",
   "execution_count": 13,
   "metadata": {},
   "outputs": [
    {
     "name": "stdout",
     "output_type": "stream",
     "text": [
      "All have same CRS:  True\n"
     ]
    }
   ],
   "source": [
    "# Rails\n",
    "rails = rails.to_crs(epsg=3857)\n",
    "\n",
    "# Population all years\n",
    "stations_population = stations_population.to_crs(epsg=3857)\n",
    "\n",
    "# Stations\n",
    "stations = stations.to_crs(epsg=3857)\n",
    "\n",
    "# Check that they all have same CRS\n",
    "print(\"All have same CRS: \", rails.crs == stations_population.crs == stations.crs)"
   ]
  },
  {
   "cell_type": "markdown",
   "metadata": {},
   "source": [
    "#### Create years_list for the loop"
   ]
  },
  {
   "cell_type": "code",
   "execution_count": 14,
   "metadata": {},
   "outputs": [
    {
     "name": "stdout",
     "output_type": "stream",
     "text": [
      "Years: \n",
      " [1997, 1998, 1999, 2000, 2001, 2002, 2003, 2004, 2005, 2006, 2007, 2008, 2009, 2010, 2011, 2012, 2013, 2014, 2015, 2016, 2017, 2018, 2019]\n"
     ]
    }
   ],
   "source": [
    "# First get columns names\n",
    "columns = stations_population.columns.tolist()\n",
    "\n",
    "# Then filter columns list and leave only population columns (they have year eg. pop1997)\n",
    "pop_years = list(filter(lambda x: 'pop' in x, columns))\n",
    "\n",
    "# Remove pop and leave only years. Then years_list is ready for loop.\n",
    "years_list=[]\n",
    "for name in pop_years:\n",
    "    year = name[3:7]\n",
    "    year = int(year)\n",
    "    years_list.append(year)\n",
    "    \n",
    "# Print years_list\n",
    "print(\"Years: \\n\", years_list)"
   ]
  },
  {
   "cell_type": "markdown",
   "metadata": {},
   "source": [
    "#### Create and save annual images"
   ]
  },
  {
   "cell_type": "code",
   "execution_count": 15,
   "metadata": {},
   "outputs": [],
   "source": [
    "# Loop through years and create and save figures\n",
    "for year in years_list:\n",
    "    \n",
    "    # Select colour map\n",
    "    cmap = matplotlib.cm.get_cmap('autumn_r')\n",
    "    \n",
    "    # Set column name which to visualize\n",
    "    column_name = \"pop\"+str(year)\n",
    "    \n",
    "    # Define variable total population and change type to integer\n",
    "    total_population = int(round(stations_population[column_name].sum()))\n",
    "    \n",
    "    # set the range for the choropleth\n",
    "    vmin, vmax = 0, 15000\n",
    "\n",
    "    # create figure and axes for Matplotlib\n",
    "    fig, ax = plt.subplots(1, figsize=(15, 10))\n",
    "\n",
    "    # Plot the population data\n",
    "    stations_population.plot(ax=ax, column=column_name, cmap=cmap, linewidth=0.5, alpha=0.8, norm=plt.Normalize(vmin=vmin, vmax=vmax))\n",
    "    \n",
    "    # Plot the rails\n",
    "    rails.plot(ax=ax, color=\"gray\", linewidth=0.5)\n",
    "    \n",
    "    # Plot stations\n",
    "    stations.plot(ax=ax, color=\"black\", markersize=10)\n",
    "\n",
    "    # remove the axis\n",
    "    ax.axis(\"off\")\n",
    "\n",
    "    # add a title\n",
    "    ax.set_title(\"Year \" +str(year) + \" - Population living in 500m range from station \" + str(total_population), \n",
    "                 fontdict={\"fontsize\": \"20\", \"fontweight\" : \"3\"})\n",
    "\n",
    "    # Add source to the bottom left corner\n",
    "    ax.annotate(\"Source: HSY.fi, Väestöruudukko, 2020\",xy=(0.1, .08), xycoords=\"figure fraction\", \n",
    "                horizontalalignment=\"left\", verticalalignment=\"top\", fontsize=12, color=\"#555555\")\n",
    "    \n",
    "    # Create colorbar as a legend\n",
    "    sm = plt.cm.ScalarMappable(cmap=cmap, norm=plt.Normalize(vmin=vmin, vmax=vmax))\n",
    "\n",
    "    # empty array for the data range\n",
    "    sm._A = []\n",
    "\n",
    "    # Add the colorbar to the figure\n",
    "    cbar = fig.colorbar(sm)\n",
    "\n",
    "    # Add basemap with `OSM_A` style\n",
    "    ctx.add_basemap(ax, url=ctx.tile_providers.OSM_A)\n",
    "\n",
    "    # Crop the figure\n",
    "    ax.set_xlim(2725000, 2816000)\n",
    "    ax.set_ylim(8420000, 8490000)\n",
    "\n",
    "    #saving our map as .png file.\n",
    "    fig.savefig(\"pics/stations_\"+column_name+\".png\", dpi=100)\n",
    "    \n",
    "    # Close figure. Remove if you want to see figures on notepad.\n",
    "    plt.close(fig)"
   ]
  },
  {
   "cell_type": "code",
   "execution_count": null,
   "metadata": {},
   "outputs": [],
   "source": []
  }
 ],
 "metadata": {
  "kernelspec": {
   "display_name": "Python 3",
   "language": "python",
   "name": "python3"
  },
  "language_info": {
   "codemirror_mode": {
    "name": "ipython",
    "version": 3
   },
   "file_extension": ".py",
   "mimetype": "text/x-python",
   "name": "python",
   "nbconvert_exporter": "python",
   "pygments_lexer": "ipython3",
   "version": "3.7.3"
  }
 },
 "nbformat": 4,
 "nbformat_minor": 4
}
