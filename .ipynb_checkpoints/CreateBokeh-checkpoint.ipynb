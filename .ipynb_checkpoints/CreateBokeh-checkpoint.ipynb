{
 "cells": [
  {
   "cell_type": "code",
   "execution_count": 64,
   "metadata": {},
   "outputs": [],
   "source": [
    "# Import general libraries\n",
    "import geopandas as gpd\n",
    "\n",
    "# Import Bokeh libraries\n",
    "from bokeh.tile_providers import get_provider, Vendors\n",
    "import json\n",
    "from bokeh.io import show\n",
    "from bokeh.models import (CDSView, ColorBar, ColumnDataSource,\n",
    "                          CustomJS, CustomJSFilter, \n",
    "                          GeoJSONDataSource, HoverTool,\n",
    "                          LinearColorMapper, Slider)\n",
    "from bokeh.layouts import column, row, widgetbox\n",
    "from bokeh.palettes import brewer\n",
    "from bokeh.plotting import figure,output_file, save\n"
   ]
  },
  {
   "cell_type": "markdown",
   "metadata": {},
   "source": [
    "#### Read files and set coordinate reference system"
   ]
  },
  {
   "cell_type": "code",
   "execution_count": 65,
   "metadata": {},
   "outputs": [],
   "source": [
    "# Read files\n",
    "population = gpd.read_file(\"population_data/population.shp\")\n",
    "stations_population = gpd.read_file(\"population_data/stations_population.shp\")\n",
    "stations = gpd.read_file(\"stations_data/stations.shp\")\n",
    "rails = gpd.read_file(\"railway_data/railways.shp\")\n",
    "\n",
    "# Set crs to EPSG:3857\n",
    "#population = population.to_crs(epsg=3857)\n",
    "stations_population = stations_population.to_crs(epsg=3857)\n",
    "stations = stations.to_crs(epsg=3857)\n",
    "rails = rails.to_crs(epsg=3857)"
   ]
  },
  {
   "cell_type": "markdown",
   "metadata": {},
   "source": [
    "#### Convert rails GeoDataFrame to ColumnDataSource"
   ]
  },
  {
   "cell_type": "code",
   "execution_count": 66,
   "metadata": {},
   "outputs": [],
   "source": [
    "# Create function getlinecoords\n",
    "def getLineCoords(row, geom, coord_type):\n",
    "    \"\"\"Returns a list of coordinates ('x' or 'y') of a LineString geometry\"\"\"\n",
    "    if coord_type == 'x':\n",
    "        return list( row[geom].coords.xy[0] )\n",
    "    elif coord_type == 'y':\n",
    "        return list( row[geom].coords.xy[1] )\n",
    "\n",
    "# Get x and y coordinates\n",
    "rails['x'] = rails.apply(getLineCoords, geom='geometry', coord_type='x', axis=1)\n",
    "rails['y'] = rails.apply(getLineCoords, geom='geometry', coord_type='y', axis=1)\n",
    "\n",
    "# Drop all the columns except osmid coordinates x and y\n",
    "rails = rails[[\"osmid\", \"x\", \"y\"]]\n",
    "\n",
    "# Convert to ColumnDataSource\n",
    "rails = ColumnDataSource(rails)"
   ]
  },
  {
   "cell_type": "markdown",
   "metadata": {},
   "source": [
    "#### Convert stations GeoDataFrame to ColumnDataFrame"
   ]
  },
  {
   "cell_type": "code",
   "execution_count": 67,
   "metadata": {},
   "outputs": [],
   "source": [
    "# Create function getpointcoords\n",
    "def getPointCoords(row, geom, coord_type):\n",
    "    \"\"\"Calculates coordinates ('x' or 'y') of a Point geometry\"\"\"\n",
    "    if coord_type == 'x':\n",
    "        return row[geom].x\n",
    "    elif coord_type == 'y':\n",
    "        return row[geom].y\n",
    "\n",
    "# Get x and y coordinates\n",
    "stations['x'] = stations.apply(getPointCoords, geom='geometry', coord_type='x', axis=1)\n",
    "\n",
    "# Calculate y coordinates\n",
    "stations['y'] = stations.apply(getPointCoords, geom='geometry', coord_type='y', axis=1)\n",
    "\n",
    "# Drop all the columns except osmid coordinates x and y\n",
    "#stations = stations.drop('geometry', axis=1)\n",
    "stations = stations[[\"x\", \"y\"]]\n",
    "\n",
    "# Convert to ColumnDataSource\n",
    "stations = ColumnDataSource(stations)"
   ]
  },
  {
   "cell_type": "markdown",
   "metadata": {},
   "source": [
    "#### Convert stations_population from GeoDataFrame to geojson"
   ]
  },
  {
   "cell_type": "code",
   "execution_count": 68,
   "metadata": {},
   "outputs": [],
   "source": [
    "# Convert grid geodataframe to geoJSON for plotting\n",
    "geosource = GeoJSONDataSource(geojson = stations_population.to_json())"
   ]
  },
  {
   "cell_type": "markdown",
   "metadata": {},
   "source": [
    "#### Convert stations_population from GeoDataFrame to geojson"
   ]
  },
  {
   "cell_type": "code",
   "execution_count": 69,
   "metadata": {},
   "outputs": [],
   "source": [
    "geosource_population = GeoJSONDataSource(geojson = stations_population.to_json())"
   ]
  },
  {
   "cell_type": "markdown",
   "metadata": {},
   "source": [
    "#### Create Bokeh visualization"
   ]
  },
  {
   "cell_type": "code",
   "execution_count": 70,
   "metadata": {},
   "outputs": [],
   "source": [
    "# Set outputfile\n",
    "output_file(\"bokeh_map.html\")\n",
    "\n",
    "# Get background map provider\n",
    "#tile_provider = get_provider(Vendors.STAMEN_TERRAIN)\n",
    "tile_provider = get_provider('CARTODBPOSITRON')\n",
    "\n",
    "# Create empty figure object\n",
    "p = figure(title = 'Population living in 500 meters range from subway and train stations', \n",
    "           plot_height = 700 ,\n",
    "           plot_width = 900, \n",
    "           toolbar_location = 'below',\n",
    "           tools = \"pan, wheel_zoom, box_zoom, reset\")\n",
    "\n",
    "# Add background map\n",
    "p.add_tile(tile_provider)\n",
    "\n",
    "# Add the rails to the map\n",
    "p.multi_line('x', 'y', source=rails, color='gray', line_width=1)\n",
    "\n",
    "# Add the stations to the map as black circle over station\n",
    "p.circle('x', 'y', source=stations, color='black', size=5)\n",
    "\n",
    "# Remove axis\n",
    "p.axis.visible = False\n",
    "\n",
    "# Add patch renderer to figure.\n",
    "grids = p.patches('xs','ys', source = geosource,\n",
    "                   fill_color = None,\n",
    "                   line_color = \"black\", \n",
    "                   line_width = 0.25, \n",
    "                   fill_alpha = 0.5)\n",
    "\n",
    "# Create hover tool\n",
    "p.add_tools(HoverTool(renderers = [grids], \n",
    "                      tooltips = [('Station','@Name'),('Type','@Type'),\n",
    "                                  ('Opened','@Opened'), ('Population','@pop2019')]))\n",
    "\n",
    "# Show map\n",
    "show(p)"
   ]
  },
  {
   "cell_type": "code",
   "execution_count": null,
   "metadata": {},
   "outputs": [],
   "source": []
  }
 ],
 "metadata": {
  "kernelspec": {
   "display_name": "Python 3",
   "language": "python",
   "name": "python3"
  },
  "language_info": {
   "codemirror_mode": {
    "name": "ipython",
    "version": 3
   },
   "file_extension": ".py",
   "mimetype": "text/x-python",
   "name": "python",
   "nbconvert_exporter": "python",
   "pygments_lexer": "ipython3",
   "version": "3.7.3"
  }
 },
 "nbformat": 4,
 "nbformat_minor": 4
}
