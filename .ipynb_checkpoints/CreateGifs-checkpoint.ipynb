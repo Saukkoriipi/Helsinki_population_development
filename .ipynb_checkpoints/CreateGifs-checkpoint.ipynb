{
 "cells": [
  {
   "cell_type": "markdown",
   "metadata": {},
   "source": [
    "## Create gifs of images in folders pics_all_population and pics_stations_population\n",
    "\n",
    "#### Create gif all population pics"
   ]
  },
  {
   "cell_type": "code",
   "execution_count": 4,
   "metadata": {},
   "outputs": [
    {
     "name": "stdout",
     "output_type": "stream",
     "text": [
      "pics_all_population/pop1997.png\n",
      "pics_all_population/pop1998.png\n",
      "pics_all_population/pop1999.png\n",
      "pics_all_population/pop2000.png\n",
      "pics_all_population/pop2001.png\n",
      "pics_all_population/pop2002.png\n",
      "pics_all_population/pop2003.png\n",
      "pics_all_population/pop2004.png\n",
      "pics_all_population/pop2005.png\n",
      "pics_all_population/pop2006.png\n",
      "pics_all_population/pop2007.png\n",
      "pics_all_population/pop2008.png\n",
      "pics_all_population/pop2009.png\n",
      "pics_all_population/pop2010.png\n",
      "pics_all_population/pop2011.png\n",
      "pics_all_population/pop2012.png\n",
      "pics_all_population/pop2013.png\n",
      "pics_all_population/pop2014.png\n",
      "pics_all_population/pop2015.png\n",
      "pics_all_population/pop2016.png\n",
      "pics_all_population/pop2017.png\n",
      "pics_all_population/pop2018.png\n",
      "pics_all_population/pop2019.png\n"
     ]
    }
   ],
   "source": [
    "# Import libraries\n",
    "import glob\n",
    "import imageio\n",
    "\n",
    "# Find all files from given folder that has .png file-format\n",
    "search_criteria = \"pics_all_population/*.png\"\n",
    "\n",
    "# Define output path\n",
    "output_gif_path = \"docs/Population.gif\"\n",
    "\n",
    "# Execute the glob function that returns a list of filepaths\n",
    "figure_paths = glob.glob(search_criteria)\n",
    "\n",
    "# Order paths by year\n",
    "figure_paths = sorted(figure_paths)\n",
    "\n",
    "# Print file paths\n",
    "for path in figure_paths:\n",
    "    print(path)\n",
    "\n",
    "# Save the animation to disk with 48 ms durations\n",
    "imageio.mimsave(output_gif_path, [imageio.imread(fp) for fp in figure_paths], duration=1.50, subrectangles=True)"
   ]
  },
  {
   "cell_type": "markdown",
   "metadata": {},
   "source": [
    "#### Create gif of stations population pics"
   ]
  },
  {
   "cell_type": "code",
   "execution_count": 5,
   "metadata": {},
   "outputs": [
    {
     "name": "stdout",
     "output_type": "stream",
     "text": [
      "pics_stations_population/pop1997.png\n",
      "pics_stations_population/pop1998.png\n",
      "pics_stations_population/pop1999.png\n",
      "pics_stations_population/pop2000.png\n",
      "pics_stations_population/pop2001.png\n",
      "pics_stations_population/pop2002.png\n",
      "pics_stations_population/pop2003.png\n",
      "pics_stations_population/pop2004.png\n",
      "pics_stations_population/pop2005.png\n",
      "pics_stations_population/pop2006.png\n",
      "pics_stations_population/pop2007.png\n",
      "pics_stations_population/pop2008.png\n",
      "pics_stations_population/pop2009.png\n",
      "pics_stations_population/pop2010.png\n",
      "pics_stations_population/pop2011.png\n",
      "pics_stations_population/pop2012.png\n",
      "pics_stations_population/pop2013.png\n",
      "pics_stations_population/pop2014.png\n",
      "pics_stations_population/pop2015.png\n",
      "pics_stations_population/pop2016.png\n",
      "pics_stations_population/pop2017.png\n",
      "pics_stations_population/pop2018.png\n",
      "pics_stations_population/pop2019.png\n"
     ]
    }
   ],
   "source": [
    "\n",
    "search_criteria = \"pics_stations_population/*.png\"\n",
    "\n",
    "# Define output path\n",
    "output_gif_path = \"docs/StationsPopulation.gif\"\n",
    "\n",
    "# Execute the glob function that returns a list of filepaths\n",
    "figure_paths = glob.glob(search_criteria)\n",
    "\n",
    "# Order paths by year\n",
    "figure_paths = sorted(figure_paths)\n",
    "\n",
    "# Print file paths\n",
    "for path in figure_paths:\n",
    "    print(path)\n",
    "\n",
    "# Save the animation to disk with 48 ms durations\n",
    "imageio.mimsave(output_gif_path, [imageio.imread(fp) for fp in figure_paths], duration=1.50, subrectangles=True)"
   ]
  },
  {
   "cell_type": "markdown",
   "metadata": {},
   "source": [
    "#### Create gif of stations graphs"
   ]
  },
  {
   "cell_type": "code",
   "execution_count": 6,
   "metadata": {},
   "outputs": [
    {
     "name": "stdout",
     "output_type": "stream",
     "text": [
      "pics_stations/Aalto University.png\n",
      "pics_stations/Espoo.png\n",
      "pics_stations/Hakaniemi.png\n",
      "pics_stations/Helsinki Center Station.png\n",
      "pics_stations/Helsinki University.png\n",
      "pics_stations/Herttoniemi.png\n",
      "pics_stations/Hiekkaharju.png\n",
      "pics_stations/Huopalahti.png\n",
      "pics_stations/Ilmala.png\n",
      "pics_stations/Itäkeskus.png\n",
      "pics_stations/Kalasatama.png\n",
      "pics_stations/Kamppi.png\n",
      "pics_stations/Kannelmäki.png\n",
      "pics_stations/Kauklahti.png\n",
      "pics_stations/Kauniainen.png\n",
      "pics_stations/Keilaniemi.png\n",
      "pics_stations/Kera.png\n",
      "pics_stations/Kilo.png\n",
      "pics_stations/Kivistö.png\n",
      "pics_stations/Koivuhovi.png\n",
      "pics_stations/Koivukylä.png\n",
      "pics_stations/Koivusaari.png\n",
      "pics_stations/Kontula.png\n",
      "pics_stations/Korso.png\n",
      "pics_stations/Kulosaari.png\n",
      "pics_stations/Käpylä.png\n",
      "pics_stations/Lauttasaari.png\n",
      "pics_stations/Leinelä.png\n",
      "pics_stations/Lentoasema.png\n",
      "pics_stations/Leppävaara.png\n",
      "pics_stations/Louhela.png\n",
      "pics_stations/Malmi.png\n",
      "pics_stations/Malminkartano.png\n",
      "pics_stations/Martinlaakso.png\n",
      "pics_stations/Matinkylä.png\n",
      "pics_stations/Mellunmäki.png\n",
      "pics_stations/Myllypuro.png\n",
      "pics_stations/Myyrmäki.png\n",
      "pics_stations/Mäkkylä.png\n",
      "pics_stations/Niittykumpu.png\n",
      "pics_stations/Oulunkylä.png\n",
      "pics_stations/Pasila.png\n",
      "pics_stations/Pitäjänmäki.png\n",
      "pics_stations/Pohjois-Haaga.png\n",
      "pics_stations/Puistola.png\n",
      "pics_stations/Pukinmäki.png\n",
      "pics_stations/Puotila.png\n",
      "pics_stations/Rastila.png\n",
      "pics_stations/Rekola.png\n",
      "pics_stations/Ruoholahti.png\n",
      "pics_stations/Siilitie.png\n",
      "pics_stations/Sörnäinen.png\n",
      "pics_stations/Tapanila.png\n",
      "pics_stations/Tapiola.png\n",
      "pics_stations/Tikkurila.png\n",
      "pics_stations/Tuomarila.png\n",
      "pics_stations/Urheilupuisto.png\n",
      "pics_stations/Valimo.png\n",
      "pics_stations/Vantaankoski.png\n",
      "pics_stations/Vehkala.png\n",
      "pics_stations/Vuosaari.png\n"
     ]
    }
   ],
   "source": [
    "search_criteria = \"pics_stations_graphs/*.png\"\n",
    "\n",
    "# Define output path\n",
    "output_gif_path = \"docs/StationsGraph.gif\"\n",
    "\n",
    "# Execute the glob function that returns a list of filepaths\n",
    "figure_paths = glob.glob(search_criteria)\n",
    "\n",
    "# Order paths by year\n",
    "figure_paths = sorted(figure_paths)\n",
    "\n",
    "# Print file paths\n",
    "for path in figure_paths:\n",
    "    print(path)\n",
    "\n",
    "# Save the animation to disk with 48 ms durations\n",
    "imageio.mimsave(output_gif_path, [imageio.imread(fp) for fp in figure_paths], duration=1.50, subrectangles=True)"
   ]
  }
 ],
 "metadata": {
  "kernelspec": {
   "display_name": "Python 3",
   "language": "python",
   "name": "python3"
  },
  "language_info": {
   "codemirror_mode": {
    "name": "ipython",
    "version": 3
   },
   "file_extension": ".py",
   "mimetype": "text/x-python",
   "name": "python",
   "nbconvert_exporter": "python",
   "pygments_lexer": "ipython3",
   "version": "3.7.3"
  }
 },
 "nbformat": 4,
 "nbformat_minor": 4
}
